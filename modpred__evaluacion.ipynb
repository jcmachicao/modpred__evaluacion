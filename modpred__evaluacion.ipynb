{
  "nbformat": 4,
  "nbformat_minor": 0,
  "metadata": {
    "colab": {
      "name": "modpred__evaluacion.ipynb",
      "provenance": [],
      "mount_file_id": "1aMS-V9kKVMs2ELtTFrxo-yfhHbv1C_xu",
      "authorship_tag": "ABX9TyPztsQQfT9m6YHVwuYMd/si",
      "include_colab_link": true
    },
    "kernelspec": {
      "name": "python3",
      "display_name": "Python 3"
    }
  },
  "cells": [
    {
      "cell_type": "markdown",
      "metadata": {
        "id": "view-in-github",
        "colab_type": "text"
      },
      "source": [
        "<a href=\"https://colab.research.google.com/github/jcmachicao/modpred__evaluacion/blob/main/modpred__evaluacion.ipynb\" target=\"_parent\"><img src=\"https://colab.research.google.com/assets/colab-badge.svg\" alt=\"Open In Colab\"/></a>"
      ]
    },
    {
      "cell_type": "markdown",
      "metadata": {
        "id": "mE3eKcWkF4V5"
      },
      "source": [
        "#### **Curso Modelamiento Predictivo**\r\n",
        "---\r\n",
        "# <font color='blue'>**Evaluación de Modelos**</font>\r\n",
        "* Autor: José Carlos Machicao\r\n",
        "* Licencia: [GestioDinámica](http://www.gestiodinamica.com) 2021\r\n",
        "\r\n",
        "### Temas\r\n",
        "* Cross Validation\r\n",
        "* Curva ROC AUC\r\n",
        "* Confusion Matrix"
      ]
    },
    {
      "cell_type": "code",
      "metadata": {
        "id": "Dn8u_4nwJeMr"
      },
      "source": [
        "import pandas as pd\r\n",
        "import numpy as np\r\n",
        "import matplotlib.pyplot as plt\r\n",
        "import os\r\n",
        "\r\n",
        "from sklearn.preprocessing import MinMaxScaler\r\n",
        "from sklearn.metrics import plot_roc_curve, plot_confusion_matrix, confusion_matrix\r\n",
        "from sklearn.model_selection import train_test_split, KFold\r\n",
        "from sklearn.naive_bayes import GaussianNB, MultinomialNB, CategoricalNB"
      ],
      "execution_count": 2,
      "outputs": []
    },
    {
      "cell_type": "code",
      "metadata": {
        "colab": {
          "base_uri": "https://localhost:8080/"
        },
        "id": "pKNCKgLy6GOW",
        "outputId": "d40fb4bb-f504-45dc-faf1-788db21d3a96"
      },
      "source": [
        "ruta = 'drive/My Drive/2020 Cursos/2020 Modelamiento Predictivo/2021 ModPred EVAL/'\r\n",
        "os.listdir(ruta)"
      ],
      "execution_count": 3,
      "outputs": [
        {
          "output_type": "execute_result",
          "data": {
            "text/plain": [
              "['ActosViolentos.xlsx',\n",
              " 'Actos_v2.xlsx',\n",
              " 'bd_resultado.xlsx',\n",
              " 'bd_manzanas.xlsx',\n",
              " 'modpred_eval__soluciones.ipynb',\n",
              " 'ModPred_Eval__Muestras.ipynb']"
            ]
          },
          "metadata": {
            "tags": []
          },
          "execution_count": 3
        }
      ]
    },
    {
      "cell_type": "code",
      "metadata": {
        "id": "YHZN4M0-GhF6"
      },
      "source": [
        "#data = pd.read_excel(ruta + 'ActosViolentos.xlsx')\r\n",
        "data = pd.read_excel(ruta + 'bd_manzanas.xlsx')"
      ],
      "execution_count": 4,
      "outputs": []
    },
    {
      "cell_type": "code",
      "metadata": {
        "colab": {
          "base_uri": "https://localhost:8080/"
        },
        "id": "UoQK3uZuG7PH",
        "outputId": "d884b07b-a08a-4245-c733-35cdfa0cb6e0"
      },
      "source": [
        "data.info()"
      ],
      "execution_count": 5,
      "outputs": [
        {
          "output_type": "stream",
          "text": [
            "<class 'pandas.core.frame.DataFrame'>\n",
            "RangeIndex: 91 entries, 0 to 90\n",
            "Data columns (total 6 columns):\n",
            " #   Column    Non-Null Count  Dtype  \n",
            "---  ------    --------------  -----  \n",
            " 0   peso      91 non-null     int64  \n",
            " 1   aroma     91 non-null     object \n",
            " 2   precio    91 non-null     int64  \n",
            " 3   diametro  91 non-null     float64\n",
            " 4   color     91 non-null     object \n",
            " 5   estado    91 non-null     object \n",
            "dtypes: float64(1), int64(2), object(3)\n",
            "memory usage: 4.4+ KB\n"
          ],
          "name": "stdout"
        }
      ]
    },
    {
      "cell_type": "code",
      "metadata": {
        "id": "sbsz38aYFgCw"
      },
      "source": [
        "label = 'estado'\r\n",
        "y_df = data[label]"
      ],
      "execution_count": 6,
      "outputs": []
    },
    {
      "cell_type": "code",
      "metadata": {
        "colab": {
          "base_uri": "https://localhost:8080/"
        },
        "id": "BqwB6aQe6vvc",
        "outputId": "0ffa55b6-fbdf-4855-cd89-1c1af3e538d4"
      },
      "source": [
        "var_cat, var_num = [], []\r\n",
        "for a, b in zip(data.columns, data.dtypes):\r\n",
        "  if a != label:\r\n",
        "    if b == 'object':\r\n",
        "      var_cat.append(a)\r\n",
        "    else:\r\n",
        "      var_num.append(a)\r\n",
        "print(var_cat)\r\n",
        "print(var_num)"
      ],
      "execution_count": 7,
      "outputs": [
        {
          "output_type": "stream",
          "text": [
            "['aroma', 'color']\n",
            "['peso', 'precio', 'diametro']\n"
          ],
          "name": "stdout"
        }
      ]
    },
    {
      "cell_type": "code",
      "metadata": {
        "colab": {
          "base_uri": "https://localhost:8080/"
        },
        "id": "JjLYdcTUgLNb",
        "outputId": "0d3a8855-3807-4ba9-dc5e-54579bfd7428"
      },
      "source": [
        "data_cat = pd.get_dummies(data[var_cat], drop_first=True)\r\n",
        "data_num = data[var_num]\r\n",
        "X_df = pd.concat([data_cat, data_num], axis=1)\r\n",
        "scl = MinMaxScaler()\r\n",
        "scl.fit(X_df)\r\n",
        "X = scl.transform(X_df).astype('float')\r\n",
        "X.shape, type(X)"
      ],
      "execution_count": 8,
      "outputs": [
        {
          "output_type": "execute_result",
          "data": {
            "text/plain": [
              "((91, 6), numpy.ndarray)"
            ]
          },
          "metadata": {
            "tags": []
          },
          "execution_count": 8
        }
      ]
    },
    {
      "cell_type": "code",
      "metadata": {
        "colab": {
          "base_uri": "https://localhost:8080/"
        },
        "id": "95OvKsHG5oaY",
        "outputId": "48004f69-0161-4adf-e38f-dfe468904ce2"
      },
      "source": [
        "y_fac = y_df.factorize()\r\n",
        "y = np.array(y_fac[0]).astype('float')\r\n",
        "y_rot = y_fac[1]\r\n",
        "y.shape, y_rot"
      ],
      "execution_count": 28,
      "outputs": [
        {
          "output_type": "execute_result",
          "data": {
            "text/plain": [
              "((91,), Index(['comestible', 'malogrado'], dtype='object'))"
            ]
          },
          "metadata": {
            "tags": []
          },
          "execution_count": 28
        }
      ]
    },
    {
      "cell_type": "code",
      "metadata": {
        "colab": {
          "base_uri": "https://localhost:8080/"
        },
        "id": "bzaBW5b68L73",
        "outputId": "0d2afe2a-7f3f-4f02-9d4f-ccf162265f9b"
      },
      "source": [
        "from sklearn.linear_model import LogisticRegression\r\n",
        "mod = LogisticRegression()\r\n",
        "mod.fit(X, y)"
      ],
      "execution_count": 29,
      "outputs": [
        {
          "output_type": "execute_result",
          "data": {
            "text/plain": [
              "LogisticRegression(C=1.0, class_weight=None, dual=False, fit_intercept=True,\n",
              "                   intercept_scaling=1, l1_ratio=None, max_iter=100,\n",
              "                   multi_class='auto', n_jobs=None, penalty='l2',\n",
              "                   random_state=None, solver='lbfgs', tol=0.0001, verbose=0,\n",
              "                   warm_start=False)"
            ]
          },
          "metadata": {
            "tags": []
          },
          "execution_count": 29
        }
      ]
    },
    {
      "cell_type": "code",
      "metadata": {
        "colab": {
          "base_uri": "https://localhost:8080/",
          "height": 265
        },
        "id": "E-Lk7WFZ4Lq5",
        "outputId": "eaccf4b1-2826-4f8f-9878-809ddb13ed96"
      },
      "source": [
        "from sklearn.model_selection import cross_val_score\r\n",
        "scores = cross_val_score(mod, X, y, cv=10)\r\n",
        "plt.figure(facecolor='white')\r\n",
        "plt.plot(scores)\r\n",
        "plt.grid(True)\r\n",
        "plt.show()"
      ],
      "execution_count": 30,
      "outputs": [
        {
          "output_type": "display_data",
          "data": {
            "image/png": "[encoded data removed]",
            "text/plain": [
              "<Figure size 432x288 with 1 Axes>"
            ]
          },
          "metadata": {
            "tags": []
          }
        }
      ]
    },
    {
      "cell_type": "code",
      "metadata": {
        "id": "Qi3MclgihWa3",
        "colab": {
          "base_uri": "https://localhost:8080/"
        },
        "outputId": "87ba5b5e-c1ac-4444-8cc2-af0ff27377d9"
      },
      "source": [
        "y_pred = mod.predict(X)\r\n",
        "y_pred"
      ],
      "execution_count": 45,
      "outputs": [
        {
          "output_type": "execute_result",
          "data": {
            "text/plain": [
              "array([0., 0., 0., 1., 1., 1., 1., 0., 0., 0., 1., 1., 0., 0., 1., 1., 0.,\n",
              "       1., 1., 0., 0., 0., 1., 1., 1., 1., 1., 0., 0., 0., 0., 1., 0., 0.,\n",
              "       0., 1., 1., 1., 1., 0., 0., 0., 1., 1., 0., 0., 1., 1., 0., 1., 0.,\n",
              "       0., 0., 0., 1., 1., 1., 0., 0., 0., 0., 0., 0., 1., 0., 0., 0., 0.,\n",
              "       0., 0., 0., 0., 0., 0., 0., 0., 0., 0., 0., 0., 0., 0., 0., 0., 0.,\n",
              "       0., 0., 0., 0., 0., 0.])"
            ]
          },
          "metadata": {
            "tags": []
          },
          "execution_count": 45
        }
      ]
    },
    {
      "cell_type": "code",
      "metadata": {
        "colab": {
          "base_uri": "https://localhost:8080/"
        },
        "id": "A8PcSEkknqtD",
        "outputId": "f2dc4008-7a8d-484c-ab58-c6d521c56ba8"
      },
      "source": [
        "y_pred_lab = y_rot[y_pred.astype('int')]\r\n",
        "y_pred_lab[0:10]"
      ],
      "execution_count": 48,
      "outputs": [
        {
          "output_type": "execute_result",
          "data": {
            "text/plain": [
              "Index(['comestible', 'comestible', 'comestible', 'malogrado', 'malogrado',\n",
              "       'malogrado', 'malogrado', 'comestible', 'comestible', 'comestible'],\n",
              "      dtype='object')"
            ]
          },
          "metadata": {
            "tags": []
          },
          "execution_count": 48
        }
      ]
    },
    {
      "cell_type": "code",
      "metadata": {
        "id": "N7EcOFZq5kkl"
      },
      "source": [
        "data['y_pred'] = y_pred\r\n",
        "data['y_pred_lab'] = y_pred_lab"
      ],
      "execution_count": 53,
      "outputs": []
    },
    {
      "cell_type": "code",
      "metadata": {
        "id": "Xpwil0OO5q-I"
      },
      "source": [
        "data.to_excel(ruta + 'bd_resultado.xlsx')"
      ],
      "execution_count": 54,
      "outputs": []
    },
    {
      "cell_type": "code",
      "metadata": {
        "colab": {
          "base_uri": "https://localhost:8080/",
          "height": 363
        },
        "id": "BHRHg69shku0",
        "outputId": "2de257f0-6ef0-4068-b56a-6174bbfb52fe"
      },
      "source": [
        "fig, ax = plt.subplots(figsize=(6,6), facecolor='white')\r\n",
        "plot_confusion_matrix(mod, X, y, ax=ax)\r\n",
        "plt.show()"
      ],
      "execution_count": 55,
      "outputs": [
        {
          "output_type": "display_data",
          "data": {
            "image/png": "[encoded data removed]",
            "text/plain": [
              "<Figure size 432x432 with 2 Axes>"
            ]
          },
          "metadata": {
            "tags": []
          }
        }
      ]
    },
    {
      "cell_type": "code",
      "metadata": {
        "id": "SyGWOfP5oJDn"
      },
      "source": [
        "y_score = mod.predict_proba(X)[:,1]"
      ],
      "execution_count": 56,
      "outputs": []
    },
    {
      "cell_type": "code",
      "metadata": {
        "colab": {
          "base_uri": "https://localhost:8080/",
          "height": 388
        },
        "id": "0IV1l_4ghrmO",
        "outputId": "bcb44215-8f66-4836-9af9-e29ee86ddd35"
      },
      "source": [
        "fig, ax = plt.subplots(figsize=(6,6), facecolor='white')\r\n",
        "plot_roc_curve(mod, X, y, ax=ax)\r\n",
        "plt.grid(True)\r\n",
        "plt.show()"
      ],
      "execution_count": 57,
      "outputs": [
        {
          "output_type": "display_data",
          "data": {
            "image/png": "[encoded data removed]",
            "text/plain": [
              "<Figure size 432x432 with 1 Axes>"
            ]
          },
          "metadata": {
            "tags": []
          }
        }
      ]
    },
    {
      "cell_type": "code",
      "metadata": {
        "colab": {
          "base_uri": "https://localhost:8080/"
        },
        "id": "DaFCAqM3HDkH",
        "outputId": "eb340ef4-af15-4b1a-83e3-0799e66bee85"
      },
      "source": [
        "X[0]"
      ],
      "execution_count": 58,
      "outputs": [
        {
          "output_type": "execute_result",
          "data": {
            "text/plain": [
              "array([0.        , 0.        , 0.        , 0.84      , 0.33333333,\n",
              "       0.82758621])"
            ]
          },
          "metadata": {
            "tags": []
          },
          "execution_count": 58
        }
      ]
    },
    {
      "cell_type": "code",
      "metadata": {
        "colab": {
          "base_uri": "https://localhost:8080/"
        },
        "id": "-bYS6xh93DG6",
        "outputId": "767db24c-1515-4c45-e56c-09cb0f28e08c"
      },
      "source": [
        "y_test = mod.predict(np.array([[1.0, 0.0, 0.0, 0.8, 0.8, 0.1]]))\r\n",
        "y_test"
      ],
      "execution_count": 59,
      "outputs": [
        {
          "output_type": "execute_result",
          "data": {
            "text/plain": [
              "array([1.])"
            ]
          },
          "metadata": {
            "tags": []
          },
          "execution_count": 59
        }
      ]
    },
    {
      "cell_type": "code",
      "metadata": {
        "colab": {
          "base_uri": "https://localhost:8080/",
          "height": 334
        },
        "id": "HZiSwuM8ShUf",
        "outputId": "8258f219-5928-47a5-d2fc-6301e3c5618c"
      },
      "source": [
        "lab_res = 'estado'\r\n",
        "lab_x, lab_y = 'peso', 'diametro'\r\n",
        "plt.figure(figsize=(8,5), facecolor='white')\r\n",
        "plt.scatter(data[data[lab_res]==y_rot[0]][lab_x], data[data[lab_res]==y_rot[0]][lab_y], label=y_rot[0])\r\n",
        "plt.scatter(data[data[lab_res]==y_rot[1]][lab_x], data[data[lab_res]==y_rot[1]][lab_y], label=y_rot[1])\r\n",
        "plt.xlabel(lab_x)\r\n",
        "plt.ylabel(lab_y)\r\n",
        "plt.legend(loc='best')\r\n",
        "plt.grid(True)\r\n",
        "plt.show()"
      ],
      "execution_count": 60,
      "outputs": [
        {
          "output_type": "display_data",
          "data": {
            "image/png": "[encoded data removed]",
            "text/plain": [
              "<Figure size 576x360 with 1 Axes>"
            ]
          },
          "metadata": {
            "tags": []
          }
        }
      ]
    },
    {
      "cell_type": "code",
      "metadata": {
        "colab": {
          "base_uri": "https://localhost:8080/",
          "height": 334
        },
        "id": "OmH0XB87gDxe",
        "outputId": "f178fcc2-bdc9-4c69-e228-9de77cccfb27"
      },
      "source": [
        "lab_res = 'y_pred_lab'\r\n",
        "lab_x, lab_y = 'peso', 'diametro'\r\n",
        "plt.figure(figsize=(8,5), facecolor='white')\r\n",
        "plt.scatter(data[data[lab_res]==y_rot[0]][lab_x], data[data[lab_res]==y_rot[0]][lab_y], label=y_rot[0])\r\n",
        "plt.scatter(data[data[lab_res]==y_rot[1]][lab_x], data[data[lab_res]==y_rot[1]][lab_y], label=y_rot[1])\r\n",
        "plt.xlabel(lab_x)\r\n",
        "plt.ylabel(lab_y)\r\n",
        "plt.legend(loc='best')\r\n",
        "plt.grid(True)\r\n",
        "plt.show()"
      ],
      "execution_count": 61,
      "outputs": [
        {
          "output_type": "display_data",
          "data": {
            "image/png": "[encoded data removed]",
            "text/plain": [
              "<Figure size 576x360 with 1 Axes>"
            ]
          },
          "metadata": {
            "tags": []
          }
        }
      ]
    },
    {
      "cell_type": "markdown",
      "metadata": {
        "id": "qrg08P2Dka8l"
      },
      "source": [
        "# Referencias\r\n",
        "\r\n",
        "https://scikit-learn.org/stable/auto_examples/miscellaneous/plot_display_object_visualization.html#sphx-glr-auto-examples-miscellaneous-plot-display-object-visualization-py\r\n",
        "\r\n",
        "https://scikit-learn.org/stable/auto_examples/model_selection/plot_roc_crossval.html#sphx-glr-auto-examples-model-selection-plot-roc-crossval-py\r\n",
        "\r\n"
      ]
    }
  ]
}