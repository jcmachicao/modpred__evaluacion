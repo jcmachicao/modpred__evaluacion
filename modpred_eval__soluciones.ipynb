{
  "nbformat": 4,
  "nbformat_minor": 0,
  "metadata": {
    "colab": {
      "name": "modpred_eval__soluciones.ipynb",
      "provenance": [],
      "mount_file_id": "1YICkDrhKhQN9a54l1YyhCzrhbeIExN7E",
      "authorship_tag": "ABX9TyMAKZr+WCOH5ltpX5NdZMLG",
      "include_colab_link": true
    },
    "kernelspec": {
      "name": "python3",
      "display_name": "Python 3"
    }
  },
  "cells": [
    {
      "cell_type": "markdown",
      "metadata": {
        "id": "view-in-github",
        "colab_type": "text"
      },
      "source": [
        "<a href=\"https://colab.research.google.com/github/jcmachicao/modpred__evaluacion/blob/main/modpred_eval__soluciones.ipynb\" target=\"_parent\"><img src=\"https://colab.research.google.com/assets/colab-badge.svg\" alt=\"Open In Colab\"/></a>"
      ]
    },
    {
      "cell_type": "markdown",
      "metadata": {
        "id": "h9BBJurj9k00"
      },
      "source": [
        "#### **Curso Modelamiento Predictivo**\r\n",
        "---\r\n",
        "# <font color='blue'>**Evaluación de Modelos**</font>\r\n",
        "* Autor: José Carlos Machicao\r\n",
        "* Licencia: [GestioDinámica](http://www.gestiodinamica.com) 2021\r\n",
        "\r\n",
        "### Temas\r\n",
        "* Data desbalanceada\r\n",
        "* SMOTE (Synthetic Minority Oversampling Technique)\r\n"
      ]
    },
    {
      "cell_type": "code",
      "metadata": {
        "id": "bj1aZzRR0za8"
      },
      "source": [
        "!pip install imbalanced-learn"
      ],
      "execution_count": null,
      "outputs": []
    },
    {
      "cell_type": "code",
      "metadata": {
        "colab": {
          "base_uri": "https://localhost:8080/"
        },
        "id": "rh55fVhg1ObU",
        "outputId": "3178cb5a-c3ba-430a-cacb-b7b43df68523"
      },
      "source": [
        "import numpy as np\r\n",
        "import pandas as pd\r\n",
        "import matplotlib.pyplot as plt\r\n",
        "from collections import Counter\r\n",
        "import os\r\n",
        "\r\n",
        "from sklearn.datasets import make_classification\r\n",
        "from sklearn.preprocessing import MinMaxScaler\r\n",
        "from imblearn.over_sampling import RandomOverSampler"
      ],
      "execution_count": 2,
      "outputs": [
        {
          "output_type": "stream",
          "text": [
            "/usr/local/lib/python3.6/dist-packages/sklearn/externals/six.py:31: FutureWarning: The module is deprecated in version 0.21 and will be removed in version 0.23 since we've dropped support for Python 2.7. Please rely on the official version of six (https://pypi.org/project/six/).\n",
            "  \"(https://pypi.org/project/six/).\", FutureWarning)\n",
            "/usr/local/lib/python3.6/dist-packages/sklearn/utils/deprecation.py:144: FutureWarning: The sklearn.neighbors.base module is  deprecated in version 0.22 and will be removed in version 0.24. The corresponding classes / functions should instead be imported from sklearn.neighbors. Anything that cannot be imported from sklearn.neighbors is now part of the private API.\n",
            "  warnings.warn(message, FutureWarning)\n"
          ],
          "name": "stderr"
        }
      ]
    },
    {
      "cell_type": "code",
      "metadata": {
        "id": "OZjRcQ2NFbrw"
      },
      "source": [
        "np.set_printoptions(linewidth=np.inf)"
      ],
      "execution_count": 17,
      "outputs": []
    },
    {
      "cell_type": "code",
      "metadata": {
        "colab": {
          "base_uri": "https://localhost:8080/"
        },
        "id": "vCCRN22_7wg9",
        "outputId": "1e1c6d34-fdc6-48f7-88c0-f4bea80fc4c3"
      },
      "source": [
        "ruta = 'drive/My Drive/2020 Cursos/2020 Modelamiento Predictivo/2021 ModPred EVAL/'\r\n",
        "os.listdir(ruta)"
      ],
      "execution_count": 3,
      "outputs": [
        {
          "output_type": "execute_result",
          "data": {
            "text/plain": [
              "['ActosViolentos.xlsx',\n",
              " 'Actos_v2.xlsx',\n",
              " 'bd_manzanas.xlsx',\n",
              " 'bd_resultado.xlsx',\n",
              " 'ModPred_Eval__Muestras.ipynb',\n",
              " 'modpred_eval__soluciones.ipynb']"
            ]
          },
          "metadata": {
            "tags": []
          },
          "execution_count": 3
        }
      ]
    },
    {
      "cell_type": "code",
      "metadata": {
        "id": "nurB94pb77aE"
      },
      "source": [
        "data = pd.read_excel(ruta + 'bd_manzanas.xlsx')"
      ],
      "execution_count": 4,
      "outputs": []
    },
    {
      "cell_type": "code",
      "metadata": {
        "colab": {
          "base_uri": "https://localhost:8080/"
        },
        "id": "d1B8kPge8IKT",
        "outputId": "d01f1198-831b-4f55-b067-c15417b07dce"
      },
      "source": [
        "data.info()"
      ],
      "execution_count": 5,
      "outputs": [
        {
          "output_type": "stream",
          "text": [
            "<class 'pandas.core.frame.DataFrame'>\n",
            "RangeIndex: 91 entries, 0 to 90\n",
            "Data columns (total 6 columns):\n",
            " #   Column    Non-Null Count  Dtype  \n",
            "---  ------    --------------  -----  \n",
            " 0   peso      91 non-null     int64  \n",
            " 1   aroma     91 non-null     object \n",
            " 2   precio    91 non-null     int64  \n",
            " 3   diametro  91 non-null     float64\n",
            " 4   color     91 non-null     object \n",
            " 5   estado    91 non-null     object \n",
            "dtypes: float64(1), int64(2), object(3)\n",
            "memory usage: 4.4+ KB\n"
          ],
          "name": "stdout"
        }
      ]
    },
    {
      "cell_type": "code",
      "metadata": {
        "id": "mtaoGDmF8vor"
      },
      "source": [
        "label = 'estado'"
      ],
      "execution_count": 6,
      "outputs": []
    },
    {
      "cell_type": "code",
      "metadata": {
        "colab": {
          "base_uri": "https://localhost:8080/"
        },
        "id": "WkJVxF118r4T",
        "outputId": "f8eed5b9-cd98-41cb-c9d4-2291c2a9f0b6"
      },
      "source": [
        "var_cat, var_num = [], []\r\n",
        "for a, b in zip(data.columns, data.dtypes):\r\n",
        "  if a != label:\r\n",
        "    if b == 'object':\r\n",
        "      var_cat.append(a)\r\n",
        "    else:\r\n",
        "      var_num.append(a)\r\n",
        "print(var_cat)\r\n",
        "print(var_num)"
      ],
      "execution_count": 7,
      "outputs": [
        {
          "output_type": "stream",
          "text": [
            "['aroma', 'color']\n",
            "['peso', 'precio', 'diametro']\n"
          ],
          "name": "stdout"
        }
      ]
    },
    {
      "cell_type": "code",
      "metadata": {
        "colab": {
          "base_uri": "https://localhost:8080/"
        },
        "id": "TjxsnZZo8VDq",
        "outputId": "342b2411-4784-4c51-9107-a4ac1220f5d3"
      },
      "source": [
        "data[var_cat + [label]].apply(lambda x: x.value_counts()).T.stack()"
      ],
      "execution_count": 8,
      "outputs": [
        {
          "output_type": "execute_result",
          "data": {
            "text/plain": [
              "aroma   agradable       61.0\n",
              "        desagradable    30.0\n",
              "color   marron          36.0\n",
              "        rojo            39.0\n",
              "        verde           16.0\n",
              "estado  comestible      61.0\n",
              "        malogrado       30.0\n",
              "dtype: float64"
            ]
          },
          "metadata": {
            "tags": []
          },
          "execution_count": 8
        }
      ]
    },
    {
      "cell_type": "code",
      "metadata": {
        "colab": {
          "base_uri": "https://localhost:8080/"
        },
        "id": "B3jd77snygot",
        "outputId": "1f436049-03c6-4795-b708-ff6f5d8eab0f"
      },
      "source": [
        "data_cat = pd.get_dummies(data[var_cat], drop_first=True)\r\n",
        "data_num = data[var_num]\r\n",
        "X_df = pd.concat([data_cat, data_num], axis=1)\r\n",
        "scl = MinMaxScaler()\r\n",
        "scl.fit(X_df)\r\n",
        "X = scl.transform(X_df)\r\n",
        "y = data[label]\r\n",
        "X.shape, type(X), y.shape, type(y)"
      ],
      "execution_count": 9,
      "outputs": [
        {
          "output_type": "execute_result",
          "data": {
            "text/plain": [
              "((91, 6), numpy.ndarray, (91,), pandas.core.series.Series)"
            ]
          },
          "metadata": {
            "tags": []
          },
          "execution_count": 9
        }
      ]
    },
    {
      "cell_type": "markdown",
      "metadata": {
        "id": "n98-_b7jDOpi"
      },
      "source": [
        "## <font color='red'>**Resampling**</font>"
      ]
    },
    {
      "cell_type": "code",
      "metadata": {
        "colab": {
          "base_uri": "https://localhost:8080/"
        },
        "id": "aY9Scvjc153K",
        "outputId": "a3d8d7b0-7378-4e18-cdf7-256345298014"
      },
      "source": [
        "ros = RandomOverSampler(random_state=0)\r\n",
        "X_resampled, y_resampled = ros.fit_resample(X, y)"
      ],
      "execution_count": 10,
      "outputs": [
        {
          "output_type": "stream",
          "text": [
            "/usr/local/lib/python3.6/dist-packages/sklearn/utils/deprecation.py:87: FutureWarning: Function safe_indexing is deprecated; safe_indexing is deprecated in version 0.22 and will be removed in version 0.24.\n",
            "  warnings.warn(msg, category=FutureWarning)\n"
          ],
          "name": "stderr"
        }
      ]
    },
    {
      "cell_type": "code",
      "metadata": {
        "colab": {
          "base_uri": "https://localhost:8080/"
        },
        "id": "NuLr0AA6191a",
        "outputId": "0d7ef029-d026-4b7b-e7e5-c4d1ef8c21f9"
      },
      "source": [
        "print(sorted(Counter(y_resampled).items()))"
      ],
      "execution_count": 11,
      "outputs": [
        {
          "output_type": "stream",
          "text": [
            "[('comestible', 61), ('malogrado', 61)]\n"
          ],
          "name": "stdout"
        }
      ]
    },
    {
      "cell_type": "markdown",
      "metadata": {
        "id": "Ozh-mgIADysa"
      },
      "source": [
        "## <font color='red'>**Eliminación por Varianza**</font>"
      ]
    },
    {
      "cell_type": "code",
      "metadata": {
        "colab": {
          "base_uri": "https://localhost:8080/"
        },
        "id": "bBeEZd5SEz95",
        "outputId": "cdce1824-c02c-4b13-b893-77a00a3d7199"
      },
      "source": [
        "X[0:10]"
      ],
      "execution_count": 18,
      "outputs": [
        {
          "output_type": "execute_result",
          "data": {
            "text/plain": [
              "array([[0.        , 0.        , 0.        , 0.84      , 0.33333333, 0.82758621],\n",
              "       [0.        , 1.        , 0.        , 0.84      , 0.5       , 0.93103448],\n",
              "       [0.        , 1.        , 0.        , 0.6       , 0.66666667, 0.31034483],\n",
              "       [1.        , 0.        , 0.        , 0.32      , 0.5       , 0.27586207],\n",
              "       [0.        , 0.        , 0.        , 0.4       , 0.16666667, 0.20689655],\n",
              "       [1.        , 0.        , 1.        , 0.08      , 0.        , 0.31034483],\n",
              "       [1.        , 0.        , 0.        , 0.6       , 0.        , 0.51724138],\n",
              "       [0.        , 1.        , 0.        , 0.8       , 0.83333333, 0.96551724],\n",
              "       [0.        , 1.        , 0.        , 0.72      , 0.33333333, 0.86206897],\n",
              "       [0.        , 1.        , 0.        , 0.96      , 0.33333333, 0.93103448]])"
            ]
          },
          "metadata": {
            "tags": []
          },
          "execution_count": 18
        }
      ]
    },
    {
      "cell_type": "code",
      "metadata": {
        "colab": {
          "base_uri": "https://localhost:8080/"
        },
        "id": "ZFei-rMMC6Ba",
        "outputId": "30bb77a9-10fe-4a64-c20e-5e527080e516"
      },
      "source": [
        "from sklearn.feature_selection import VarianceThreshold\r\n",
        "sel = VarianceThreshold(threshold=(0.9 * (1 - 0.9)))\r\n",
        "X_alt = sel.fit_transform(X)\r\n",
        "X_alt[0:10]"
      ],
      "execution_count": 20,
      "outputs": [
        {
          "output_type": "execute_result",
          "data": {
            "text/plain": [
              "array([[0.        , 0.        , 0.        , 0.82758621],\n",
              "       [0.        , 1.        , 0.        , 0.93103448],\n",
              "       [0.        , 1.        , 0.        , 0.31034483],\n",
              "       [1.        , 0.        , 0.        , 0.27586207],\n",
              "       [0.        , 0.        , 0.        , 0.20689655],\n",
              "       [1.        , 0.        , 1.        , 0.31034483],\n",
              "       [1.        , 0.        , 0.        , 0.51724138],\n",
              "       [0.        , 1.        , 0.        , 0.96551724],\n",
              "       [0.        , 1.        , 0.        , 0.86206897],\n",
              "       [0.        , 1.        , 0.        , 0.93103448]])"
            ]
          },
          "metadata": {
            "tags": []
          },
          "execution_count": 20
        }
      ]
    },
    {
      "cell_type": "markdown",
      "metadata": {
        "id": "Fu3kgTQq9daa"
      },
      "source": [
        "# Referencias\r\n",
        "\r\n",
        "https://pypi.org/project/imbalanced-learn/\r\n",
        "\r\n",
        "https://www.youtube.com/watch?v=dkXB8HH_4-k\r\n",
        "\r\n"
      ]
    }
  ]
}