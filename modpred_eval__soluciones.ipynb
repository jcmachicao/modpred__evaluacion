{
  "nbformat": 4,
  "nbformat_minor": 0,
  "metadata": {
    "colab": {
      "name": "modpred_eval__soluciones.ipynb",
      "provenance": [],
      "collapsed_sections": [],
      "mount_file_id": "1YICkDrhKhQN9a54l1YyhCzrhbeIExN7E",
      "authorship_tag": "ABX9TyNfkbtRkV6h4mTg6f9F6txU",
      "include_colab_link": true
    },
    "kernelspec": {
      "name": "python3",
      "display_name": "Python 3"
    }
  },
  "cells": [
    {
      "cell_type": "markdown",
      "metadata": {
        "id": "view-in-github",
        "colab_type": "text"
      },
      "source": [
        "<a href=\"https://colab.research.google.com/github/jcmachicao/modpred__evaluacion/blob/main/modpred_eval__soluciones.ipynb\" target=\"_parent\"><img src=\"https://colab.research.google.com/assets/colab-badge.svg\" alt=\"Open In Colab\"/></a>"
      ]
    },
    {
      "cell_type": "markdown",
      "metadata": {
        "id": "h9BBJurj9k00"
      },
      "source": [
        "#### **Curso Modelamiento Predictivo**\r\n",
        "---\r\n",
        "# <font color='blue'>**Evaluación de Modelos**</font>\r\n",
        "* Autor: José Carlos Machicao\r\n",
        "* Licencia: [GestioDinámica](http://www.gestiodinamica.com) 2021\r\n",
        "\r\n",
        "### Temas\r\n",
        "* Data desbalanceada\r\n",
        "* SMOTE (Synthetic Minority Oversampling Technique)\r\n"
      ]
    },
    {
      "cell_type": "code",
      "metadata": {
        "id": "bj1aZzRR0za8"
      },
      "source": [
        "!pip install imbalanced-learn"
      ],
      "execution_count": null,
      "outputs": []
    },
    {
      "cell_type": "code",
      "metadata": {
        "id": "rh55fVhg1ObU"
      },
      "source": [
        "import numpy as np\r\n",
        "import pandas as pd\r\n",
        "import matplotlib.pyplot as plt\r\n",
        "from collections import Counter\r\n",
        "import os\r\n",
        "\r\n",
        "from sklearn.datasets import make_classification\r\n",
        "from sklearn.preprocessing import MinMaxScaler"
      ],
      "execution_count": 2,
      "outputs": []
    },
    {
      "cell_type": "code",
      "metadata": {
        "id": "OZjRcQ2NFbrw"
      },
      "source": [
        "np.set_printoptions(linewidth=np.inf)"
      ],
      "execution_count": 3,
      "outputs": []
    },
    {
      "cell_type": "code",
      "metadata": {
        "colab": {
          "base_uri": "https://localhost:8080/"
        },
        "id": "vCCRN22_7wg9",
        "outputId": "c8015f0c-1491-493c-c23c-db75c6855f71"
      },
      "source": [
        "ruta = 'drive/My Drive/2020 Cursos/2020 Modelamiento Predictivo/2021 ModPred EVAL/'\r\n",
        "os.listdir(ruta)"
      ],
      "execution_count": 4,
      "outputs": [
        {
          "output_type": "execute_result",
          "data": {
            "text/plain": [
              "['modpred_eval__soluciones.ipynb',\n",
              " 'ActosViolentos.xlsx',\n",
              " 'Actos_v2.xlsx',\n",
              " 'bd_resultado.xlsx',\n",
              " 'modpred__overfitting.ipynb',\n",
              " 'bd_manzanas.xlsx',\n",
              " 'modpred__evaluacion.ipynb',\n",
              " 'modpred__color_results.ipynb',\n",
              " 'modpred__missingdata.ipynb',\n",
              " 'lime_demo.ipynb']"
            ]
          },
          "metadata": {
            "tags": []
          },
          "execution_count": 4
        }
      ]
    },
    {
      "cell_type": "code",
      "metadata": {
        "id": "nurB94pb77aE"
      },
      "source": [
        "data = pd.read_excel(ruta + 'bd_manzanas.xlsx')"
      ],
      "execution_count": 5,
      "outputs": []
    },
    {
      "cell_type": "code",
      "metadata": {
        "colab": {
          "base_uri": "https://localhost:8080/"
        },
        "id": "d1B8kPge8IKT",
        "outputId": "52ca3e20-791f-4fb7-e8dc-576025eaa85e"
      },
      "source": [
        "data.info()"
      ],
      "execution_count": 6,
      "outputs": [
        {
          "output_type": "stream",
          "text": [
            "<class 'pandas.core.frame.DataFrame'>\n",
            "RangeIndex: 91 entries, 0 to 90\n",
            "Data columns (total 6 columns):\n",
            " #   Column    Non-Null Count  Dtype  \n",
            "---  ------    --------------  -----  \n",
            " 0   peso      91 non-null     int64  \n",
            " 1   aroma     91 non-null     object \n",
            " 2   precio    91 non-null     int64  \n",
            " 3   diametro  91 non-null     float64\n",
            " 4   color     91 non-null     object \n",
            " 5   estado    91 non-null     object \n",
            "dtypes: float64(1), int64(2), object(3)\n",
            "memory usage: 4.4+ KB\n"
          ],
          "name": "stdout"
        }
      ]
    },
    {
      "cell_type": "code",
      "metadata": {
        "id": "mtaoGDmF8vor"
      },
      "source": [
        "label = 'estado'"
      ],
      "execution_count": 7,
      "outputs": []
    },
    {
      "cell_type": "code",
      "metadata": {
        "colab": {
          "base_uri": "https://localhost:8080/"
        },
        "id": "WkJVxF118r4T",
        "outputId": "03f0293b-e11c-472e-e420-8bb24c7a2112"
      },
      "source": [
        "var_cat, var_num = [], []\r\n",
        "for a, b in zip(data.columns, data.dtypes):\r\n",
        "  if a != label:\r\n",
        "    if b == 'object':\r\n",
        "      var_cat.append(a)\r\n",
        "    else:\r\n",
        "      var_num.append(a)\r\n",
        "print(var_cat)\r\n",
        "print(var_num)"
      ],
      "execution_count": 8,
      "outputs": [
        {
          "output_type": "stream",
          "text": [
            "['aroma', 'color']\n",
            "['peso', 'precio', 'diametro']\n"
          ],
          "name": "stdout"
        }
      ]
    },
    {
      "cell_type": "markdown",
      "metadata": {
        "id": "sBheHIjv9-Oc"
      },
      "source": [
        "## <font color='red'>**Conteo de Categorías**</font>"
      ]
    },
    {
      "cell_type": "code",
      "metadata": {
        "colab": {
          "base_uri": "https://localhost:8080/"
        },
        "id": "TjxsnZZo8VDq",
        "outputId": "804f04e4-5837-4d2d-d6cc-8dad1e9fd370"
      },
      "source": [
        "data[var_cat + [label]].apply(lambda x: x.value_counts()).T.stack()"
      ],
      "execution_count": 9,
      "outputs": [
        {
          "output_type": "execute_result",
          "data": {
            "text/plain": [
              "aroma   agradable       61.0\n",
              "        desagradable    30.0\n",
              "color   marron          36.0\n",
              "        rojo            39.0\n",
              "        verde           16.0\n",
              "estado  comestible      61.0\n",
              "        malograda       30.0\n",
              "dtype: float64"
            ]
          },
          "metadata": {
            "tags": []
          },
          "execution_count": 9
        }
      ]
    },
    {
      "cell_type": "code",
      "metadata": {
        "colab": {
          "base_uri": "https://localhost:8080/"
        },
        "id": "B3jd77snygot",
        "outputId": "f5b55278-9398-4dee-bfc2-1efa8a3b1469"
      },
      "source": [
        "data_cat = pd.get_dummies(data[var_cat], drop_first=True)\r\n",
        "data_num = data[var_num]\r\n",
        "X_df = pd.concat([data_cat, data_num], axis=1)\r\n",
        "scl = MinMaxScaler()\r\n",
        "scl.fit(X_df)\r\n",
        "X = scl.transform(X_df)\r\n",
        "y = data[label]\r\n",
        "X.shape, type(X), y.shape, type(y)"
      ],
      "execution_count": 10,
      "outputs": [
        {
          "output_type": "execute_result",
          "data": {
            "text/plain": [
              "((91, 6), numpy.ndarray, (91,), pandas.core.series.Series)"
            ]
          },
          "metadata": {
            "tags": []
          },
          "execution_count": 10
        }
      ]
    },
    {
      "cell_type": "markdown",
      "metadata": {
        "id": "n98-_b7jDOpi"
      },
      "source": [
        "## <font color='red'>**Resampling**</font>"
      ]
    },
    {
      "cell_type": "code",
      "metadata": {
        "colab": {
          "base_uri": "https://localhost:8080/"
        },
        "id": "9rxMSPoo-ubZ",
        "outputId": "f8b63169-64c3-4665-b294-0c99aa915a33"
      },
      "source": [
        "from imblearn.over_sampling import RandomOverSampler, SMOTE"
      ],
      "execution_count": 11,
      "outputs": [
        {
          "output_type": "stream",
          "text": [
            "/usr/local/lib/python3.6/dist-packages/sklearn/externals/six.py:31: FutureWarning: The module is deprecated in version 0.21 and will be removed in version 0.23 since we've dropped support for Python 2.7. Please rely on the official version of six (https://pypi.org/project/six/).\n",
            "  \"(https://pypi.org/project/six/).\", FutureWarning)\n",
            "/usr/local/lib/python3.6/dist-packages/sklearn/utils/deprecation.py:144: FutureWarning: The sklearn.neighbors.base module is  deprecated in version 0.22 and will be removed in version 0.24. The corresponding classes / functions should instead be imported from sklearn.neighbors. Anything that cannot be imported from sklearn.neighbors is now part of the private API.\n",
            "  warnings.warn(message, FutureWarning)\n"
          ],
          "name": "stderr"
        }
      ]
    },
    {
      "cell_type": "code",
      "metadata": {
        "colab": {
          "base_uri": "https://localhost:8080/"
        },
        "id": "aY9Scvjc153K",
        "outputId": "79d15e1a-8ec2-44de-b71e-2ccec629857a"
      },
      "source": [
        "ros = RandomOverSampler(random_state=0)\r\n",
        "X_resampled, y_resampled = ros.fit_resample(X, y)"
      ],
      "execution_count": 12,
      "outputs": [
        {
          "output_type": "stream",
          "text": [
            "/usr/local/lib/python3.6/dist-packages/sklearn/utils/deprecation.py:87: FutureWarning: Function safe_indexing is deprecated; safe_indexing is deprecated in version 0.22 and will be removed in version 0.24.\n",
            "  warnings.warn(msg, category=FutureWarning)\n"
          ],
          "name": "stderr"
        }
      ]
    },
    {
      "cell_type": "code",
      "metadata": {
        "colab": {
          "base_uri": "https://localhost:8080/"
        },
        "id": "NuLr0AA6191a",
        "outputId": "0d7ef029-d026-4b7b-e7e5-c4d1ef8c21f9"
      },
      "source": [
        "print(sorted(Counter(y_resampled).items()))"
      ],
      "execution_count": null,
      "outputs": [
        {
          "output_type": "stream",
          "text": [
            "[('comestible', 61), ('malogrado', 61)]\n"
          ],
          "name": "stdout"
        }
      ]
    },
    {
      "cell_type": "code",
      "metadata": {
        "colab": {
          "base_uri": "https://localhost:8080/"
        },
        "id": "dAeRsiK8_SsZ",
        "outputId": "d13de26a-4d99-4654-d5ef-372fd6cad3ef"
      },
      "source": [
        "sm = SMOTE(random_state=42)\r\n",
        "X_res, y_res = sm.fit_resample(X, y)"
      ],
      "execution_count": 13,
      "outputs": [
        {
          "output_type": "stream",
          "text": [
            "/usr/local/lib/python3.6/dist-packages/sklearn/utils/deprecation.py:87: FutureWarning: Function safe_indexing is deprecated; safe_indexing is deprecated in version 0.22 and will be removed in version 0.24.\n",
            "  warnings.warn(msg, category=FutureWarning)\n"
          ],
          "name": "stderr"
        }
      ]
    },
    {
      "cell_type": "code",
      "metadata": {
        "colab": {
          "base_uri": "https://localhost:8080/"
        },
        "id": "GXNlhbme_hcZ",
        "outputId": "c7a05519-8e7e-4f10-d256-b7ecc82d43e1"
      },
      "source": [
        "print(sorted(Counter(y_res).items()))"
      ],
      "execution_count": 15,
      "outputs": [
        {
          "output_type": "stream",
          "text": [
            "[('comestible', 61), ('malograda', 61)]\n"
          ],
          "name": "stdout"
        }
      ]
    },
    {
      "cell_type": "markdown",
      "metadata": {
        "id": "Ozh-mgIADysa"
      },
      "source": [
        "## <font color='red'>**Eliminación por Varianza**</font>"
      ]
    },
    {
      "cell_type": "markdown",
      "metadata": {
        "id": "5d08o5JF_5AQ"
      },
      "source": [
        "Elimina algunas columnas que podrían tener varianza muy baja."
      ]
    },
    {
      "cell_type": "code",
      "metadata": {
        "colab": {
          "base_uri": "https://localhost:8080/"
        },
        "id": "bBeEZd5SEz95",
        "outputId": "cdce1824-c02c-4b13-b893-77a00a3d7199"
      },
      "source": [
        "X[0:10]"
      ],
      "execution_count": null,
      "outputs": [
        {
          "output_type": "execute_result",
          "data": {
            "text/plain": [
              "array([[0.        , 0.        , 0.        , 0.84      , 0.33333333, 0.82758621],\n",
              "       [0.        , 1.        , 0.        , 0.84      , 0.5       , 0.93103448],\n",
              "       [0.        , 1.        , 0.        , 0.6       , 0.66666667, 0.31034483],\n",
              "       [1.        , 0.        , 0.        , 0.32      , 0.5       , 0.27586207],\n",
              "       [0.        , 0.        , 0.        , 0.4       , 0.16666667, 0.20689655],\n",
              "       [1.        , 0.        , 1.        , 0.08      , 0.        , 0.31034483],\n",
              "       [1.        , 0.        , 0.        , 0.6       , 0.        , 0.51724138],\n",
              "       [0.        , 1.        , 0.        , 0.8       , 0.83333333, 0.96551724],\n",
              "       [0.        , 1.        , 0.        , 0.72      , 0.33333333, 0.86206897],\n",
              "       [0.        , 1.        , 0.        , 0.96      , 0.33333333, 0.93103448]])"
            ]
          },
          "metadata": {
            "tags": []
          },
          "execution_count": 18
        }
      ]
    },
    {
      "cell_type": "code",
      "metadata": {
        "colab": {
          "base_uri": "https://localhost:8080/"
        },
        "id": "ZFei-rMMC6Ba",
        "outputId": "30bb77a9-10fe-4a64-c20e-5e527080e516"
      },
      "source": [
        "from sklearn.feature_selection import VarianceThreshold\r\n",
        "sel = VarianceThreshold(threshold=(0.9 * (1 - 0.9)))\r\n",
        "X_alt = sel.fit_transform(X)\r\n",
        "X_alt[0:10]"
      ],
      "execution_count": null,
      "outputs": [
        {
          "output_type": "execute_result",
          "data": {
            "text/plain": [
              "array([[0.        , 0.        , 0.        , 0.82758621],\n",
              "       [0.        , 1.        , 0.        , 0.93103448],\n",
              "       [0.        , 1.        , 0.        , 0.31034483],\n",
              "       [1.        , 0.        , 0.        , 0.27586207],\n",
              "       [0.        , 0.        , 0.        , 0.20689655],\n",
              "       [1.        , 0.        , 1.        , 0.31034483],\n",
              "       [1.        , 0.        , 0.        , 0.51724138],\n",
              "       [0.        , 1.        , 0.        , 0.96551724],\n",
              "       [0.        , 1.        , 0.        , 0.86206897],\n",
              "       [0.        , 1.        , 0.        , 0.93103448]])"
            ]
          },
          "metadata": {
            "tags": []
          },
          "execution_count": 20
        }
      ]
    },
    {
      "cell_type": "markdown",
      "metadata": {
        "id": "Fu3kgTQq9daa"
      },
      "source": [
        "# Referencias\r\n",
        "\r\n",
        "https://pypi.org/project/imbalanced-learn/\r\n",
        "\r\n",
        "https://www.youtube.com/watch?v=dkXB8HH_4-k\r\n",
        "\r\n"
      ]
    }
  ]
}