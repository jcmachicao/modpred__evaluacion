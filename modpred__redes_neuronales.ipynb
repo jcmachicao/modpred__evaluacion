{
  "nbformat": 4,
  "nbformat_minor": 0,
  "metadata": {
    "colab": {
      "name": "modpred__redes_neuronales.ipynb",
      "provenance": [],
      "toc_visible": true,
      "mount_file_id": "1Y6bm_JM5aZ69KCM6j4sBO7F2GG5CsLd5",
      "authorship_tag": "ABX9TyPJCmLBygbu5ARzuskNg8qA",
      "include_colab_link": true
    },
    "kernelspec": {
      "name": "python3",
      "display_name": "Python 3"
    },
    "accelerator": "GPU"
  },
  "cells": [
    {
      "cell_type": "markdown",
      "metadata": {
        "id": "view-in-github",
        "colab_type": "text"
      },
      "source": [
        "<a href=\"https://colab.research.google.com/github/jcmachicao/modpred__evaluacion/blob/main/modpred__redes_neuronales.ipynb\" target=\"_parent\"><img src=\"https://colab.research.google.com/assets/colab-badge.svg\" alt=\"Open In Colab\"/></a>"
      ]
    },
    {
      "cell_type": "markdown",
      "metadata": {
        "id": "y-0NM5pn3Kyo"
      },
      "source": [
        "## **2.5**\n",
        "#### Cuaderno 2, Ejercicio 5\n",
        "#### **Curso Modelamiento Predictivo**\n",
        "---\n",
        "# **Introducción a Redes Neuronales**\n",
        "* Autor: José Carlos Machicao\n",
        "* Licencia: [GestioDinámica](http://www.gestiodinamica.com) 2020"
      ]
    },
    {
      "cell_type": "markdown",
      "metadata": {
        "id": "G4luqjK73TUj"
      },
      "source": [
        "[Tensorflow Playground](https://playground.tensorflow.org)"
      ]
    },
    {
      "cell_type": "code",
      "metadata": {
        "id": "wk9oQvf8YuqM"
      },
      "source": [
        "import torch\n",
        "import torch.nn as nn\n",
        "import pandas as pd\n",
        "import numpy as np\n",
        "import sklearn\n",
        "import matplotlib.pyplot as plt "
      ],
      "execution_count": 1,
      "outputs": []
    },
    {
      "cell_type": "code",
      "metadata": {
        "id": "LB2Q7Gqexi0x"
      },
      "source": [
        "from sklearn.preprocessing import MinMaxScaler"
      ],
      "execution_count": 3,
      "outputs": []
    },
    {
      "cell_type": "code",
      "metadata": {
        "id": "YZdtPvFwZluh"
      },
      "source": [
        "ruta = 'drive/My Drive/2020 data/'"
      ],
      "execution_count": 4,
      "outputs": []
    },
    {
      "cell_type": "code",
      "metadata": {
        "id": "nd37Ij5MZK8C",
        "colab": {
          "base_uri": "https://localhost:8080/",
          "height": 204
        },
        "outputId": "99492ddd-6053-4267-bfb7-276f503cb06d"
      },
      "source": [
        "dataset = pd.read_excel(ruta + 'ActosViolentos.xlsx')\n",
        "dataset.head()"
      ],
      "execution_count": 5,
      "outputs": [
        {
          "output_type": "execute_result",
          "data": {
            "text/html": [
              "<div>\n",
              "<style scoped>\n",
              "    .dataframe tbody tr th:only-of-type {\n",
              "        vertical-align: middle;\n",
              "    }\n",
              "\n",
              "    .dataframe tbody tr th {\n",
              "        vertical-align: top;\n",
              "    }\n",
              "\n",
              "    .dataframe thead th {\n",
              "        text-align: right;\n",
              "    }\n",
              "</style>\n",
              "<table border=\"1\" class=\"dataframe\">\n",
              "  <thead>\n",
              "    <tr style=\"text-align: right;\">\n",
              "      <th></th>\n",
              "      <th>Edad</th>\n",
              "      <th>Hora</th>\n",
              "      <th>Sexo</th>\n",
              "      <th>Area</th>\n",
              "      <th>Ingreso</th>\n",
              "      <th>Violento</th>\n",
              "    </tr>\n",
              "  </thead>\n",
              "  <tbody>\n",
              "    <tr>\n",
              "      <th>0</th>\n",
              "      <td>Niño</td>\n",
              "      <td>17</td>\n",
              "      <td>M</td>\n",
              "      <td>A1</td>\n",
              "      <td>2</td>\n",
              "      <td>No Violento</td>\n",
              "    </tr>\n",
              "    <tr>\n",
              "      <th>1</th>\n",
              "      <td>Niño</td>\n",
              "      <td>3</td>\n",
              "      <td>F</td>\n",
              "      <td>A3</td>\n",
              "      <td>4</td>\n",
              "      <td>No Violento</td>\n",
              "    </tr>\n",
              "    <tr>\n",
              "      <th>2</th>\n",
              "      <td>Niño</td>\n",
              "      <td>19</td>\n",
              "      <td>F</td>\n",
              "      <td>A1</td>\n",
              "      <td>3</td>\n",
              "      <td>No Violento</td>\n",
              "    </tr>\n",
              "    <tr>\n",
              "      <th>3</th>\n",
              "      <td>Niño</td>\n",
              "      <td>23</td>\n",
              "      <td>M</td>\n",
              "      <td>A1</td>\n",
              "      <td>2</td>\n",
              "      <td>No Violento</td>\n",
              "    </tr>\n",
              "    <tr>\n",
              "      <th>4</th>\n",
              "      <td>Niño</td>\n",
              "      <td>7</td>\n",
              "      <td>F</td>\n",
              "      <td>A2</td>\n",
              "      <td>5</td>\n",
              "      <td>Violento</td>\n",
              "    </tr>\n",
              "  </tbody>\n",
              "</table>\n",
              "</div>"
            ],
            "text/plain": [
              "   Edad  Hora Sexo Area  Ingreso     Violento\n",
              "0  Niño    17    M   A1        2  No Violento\n",
              "1  Niño     3    F   A3        4  No Violento\n",
              "2  Niño    19    F   A1        3  No Violento\n",
              "3  Niño    23    M   A1        2  No Violento\n",
              "4  Niño     7    F   A2        5     Violento"
            ]
          },
          "metadata": {
            "tags": []
          },
          "execution_count": 5
        }
      ]
    },
    {
      "cell_type": "code",
      "metadata": {
        "colab": {
          "base_uri": "https://localhost:8080/"
        },
        "id": "Wf8H94hGxGBx",
        "outputId": "9bc5c03b-3b7c-49c9-8f92-a112bfc711da"
      },
      "source": [
        "dataset.info()"
      ],
      "execution_count": null,
      "outputs": [
        {
          "output_type": "stream",
          "text": [
            "<class 'pandas.core.frame.DataFrame'>\n",
            "RangeIndex: 900 entries, 0 to 899\n",
            "Data columns (total 6 columns):\n",
            " #   Column    Non-Null Count  Dtype \n",
            "---  ------    --------------  ----- \n",
            " 0   Edad      900 non-null    object\n",
            " 1   Hora      900 non-null    int64 \n",
            " 2   Sexo      900 non-null    object\n",
            " 3   Area      900 non-null    object\n",
            " 4   Ingreso   900 non-null    int64 \n",
            " 5   Violento  900 non-null    object\n",
            "dtypes: int64(2), object(4)\n",
            "memory usage: 42.3+ KB\n"
          ],
          "name": "stdout"
        }
      ]
    },
    {
      "cell_type": "code",
      "metadata": {
        "id": "IE_WhWJRx_s0"
      },
      "source": [
        "cat_var = ['Edad', 'Sexo', 'Area']\r\n",
        "cat_num = ['Hora', 'Ingreso']"
      ],
      "execution_count": null,
      "outputs": []
    },
    {
      "cell_type": "code",
      "metadata": {
        "colab": {
          "base_uri": "https://localhost:8080/"
        },
        "id": "SjavwD45yJTf",
        "outputId": "45a32d47-e83f-4717-ec50-f6fb638e3225"
      },
      "source": [
        "dataset[cat_var].info()"
      ],
      "execution_count": null,
      "outputs": [
        {
          "output_type": "stream",
          "text": [
            "<class 'pandas.core.frame.DataFrame'>\n",
            "RangeIndex: 900 entries, 0 to 899\n",
            "Data columns (total 3 columns):\n",
            " #   Column  Non-Null Count  Dtype \n",
            "---  ------  --------------  ----- \n",
            " 0   Edad    900 non-null    object\n",
            " 1   Sexo    900 non-null    object\n",
            " 2   Area    900 non-null    object\n",
            "dtypes: object(3)\n",
            "memory usage: 21.2+ KB\n"
          ],
          "name": "stdout"
        }
      ]
    },
    {
      "cell_type": "code",
      "metadata": {
        "colab": {
          "base_uri": "https://localhost:8080/"
        },
        "id": "kNoEUubMFrMn",
        "outputId": "d438cdb7-d370-4a3b-ad7c-f2ab1e9da875"
      },
      "source": [
        "dataset[cat_var].Edad.unique()"
      ],
      "execution_count": null,
      "outputs": [
        {
          "output_type": "execute_result",
          "data": {
            "text/plain": [
              "array(['Niño', 'Adulto', 'AdultoMayor', 'Joven'], dtype=object)"
            ]
          },
          "metadata": {
            "tags": []
          },
          "execution_count": 10
        }
      ]
    },
    {
      "cell_type": "code",
      "metadata": {
        "colab": {
          "base_uri": "https://localhost:8080/"
        },
        "id": "3KnWyPlbxdbN",
        "outputId": "6a23584f-df65-459a-bc23-c0b36a6c4224"
      },
      "source": [
        "data_cat = pd.get_dummies(dataset[cat_var], drop_first=True)\r\n",
        "data_num = dataset[cat_num]\r\n",
        "data = pd.concat([data_cat, data_num], axis=1)\r\n",
        "scl = MinMaxScaler()\r\n",
        "scl.fit(data)\r\n",
        "data = scl.transform(data)\r\n",
        "data.shape, type(data)"
      ],
      "execution_count": null,
      "outputs": [
        {
          "output_type": "execute_result",
          "data": {
            "text/plain": [
              "((900, 9), numpy.ndarray)"
            ]
          },
          "metadata": {
            "tags": []
          },
          "execution_count": 11
        }
      ]
    },
    {
      "cell_type": "code",
      "metadata": {
        "colab": {
          "base_uri": "https://localhost:8080/"
        },
        "id": "CxGuJVZcGkGU",
        "outputId": "a0957f80-eded-49cf-cf47-215718ce201a"
      },
      "source": [
        "type(data)"
      ],
      "execution_count": null,
      "outputs": [
        {
          "output_type": "execute_result",
          "data": {
            "text/plain": [
              "numpy.ndarray"
            ]
          },
          "metadata": {
            "tags": []
          },
          "execution_count": 12
        }
      ]
    },
    {
      "cell_type": "code",
      "metadata": {
        "colab": {
          "base_uri": "https://localhost:8080/"
        },
        "id": "2TibdGZN0-6o",
        "outputId": "1b05033e-039a-48df-8ce6-73475f52a812"
      },
      "source": [
        "labels = np.array(pd.factorize(dataset.Violento)[0])\r\n",
        "labels.shape, type(labels)"
      ],
      "execution_count": null,
      "outputs": [
        {
          "output_type": "execute_result",
          "data": {
            "text/plain": [
              "((900,), numpy.ndarray)"
            ]
          },
          "metadata": {
            "tags": []
          },
          "execution_count": 13
        }
      ]
    },
    {
      "cell_type": "code",
      "metadata": {
        "colab": {
          "base_uri": "https://localhost:8080/"
        },
        "id": "kTEOmetVP3HX",
        "outputId": "2c233de7-a549-4c61-85c6-b66524a5a1aa"
      },
      "source": [
        "pd.factorize(dataset.Violento)[1]"
      ],
      "execution_count": null,
      "outputs": [
        {
          "output_type": "execute_result",
          "data": {
            "text/plain": [
              "Index(['No Violento', 'Violento'], dtype='object')"
            ]
          },
          "metadata": {
            "tags": []
          },
          "execution_count": 14
        }
      ]
    },
    {
      "cell_type": "code",
      "metadata": {
        "id": "_KQmGkVdiUnW"
      },
      "source": [
        "X_np = data.astype(np.float32)\n",
        "y_np = labels.reshape(-1, 1).astype(np.float32)\n",
        "#y_np = labels.reshape(-1, 1)"
      ],
      "execution_count": null,
      "outputs": []
    },
    {
      "cell_type": "code",
      "metadata": {
        "id": "pGUlGFsqhDsx"
      },
      "source": [
        "X = torch.from_numpy(X_np)\n",
        "y = torch.from_numpy(y_np.reshape(-1, 1))"
      ],
      "execution_count": null,
      "outputs": []
    },
    {
      "cell_type": "code",
      "metadata": {
        "id": "6XSjGejFwYup"
      },
      "source": [
        "X.shape, y.shape"
      ],
      "execution_count": null,
      "outputs": []
    },
    {
      "cell_type": "code",
      "metadata": {
        "id": "jZTLZ3tF4Ufh"
      },
      "source": [
        "torch.cuda.device_count(), torch.cuda.get_device_name(0)"
      ],
      "execution_count": null,
      "outputs": []
    },
    {
      "cell_type": "code",
      "metadata": {
        "colab": {
          "base_uri": "https://localhost:8080/"
        },
        "id": "Yx1XMjMvK7Nz",
        "outputId": "d8fab0cc-226c-4ab1-a034-dbc1c3053168"
      },
      "source": [
        "X.shape"
      ],
      "execution_count": null,
      "outputs": [
        {
          "output_type": "execute_result",
          "data": {
            "text/plain": [
              "torch.Size([900, 9])"
            ]
          },
          "metadata": {
            "tags": []
          },
          "execution_count": 19
        }
      ]
    },
    {
      "cell_type": "code",
      "metadata": {
        "id": "eDvHpU6ypXmN"
      },
      "source": [
        "model = nn.Sequential(\n",
        "  nn.Linear(X.shape[1], X.shape[0]),\n",
        "  nn.ReLU(),\n",
        "  nn.Linear(X.shape[0], 900),\n",
        "  nn.ReLU(),\n",
        "  nn.Linear(900, 500),\n",
        "  nn.ReLU(),\n",
        "  nn.Linear(500, 100),\n",
        "  nn.ReLU(),\n",
        "  nn.Linear(100, 1)\n",
        ")"
      ],
      "execution_count": null,
      "outputs": []
    },
    {
      "cell_type": "code",
      "metadata": {
        "id": "KbqmryWt5YGB"
      },
      "source": [
        "model.cuda()\r\n",
        "X_g = X.cuda()\r\n",
        "y_g = y.cuda()"
      ],
      "execution_count": null,
      "outputs": []
    },
    {
      "cell_type": "code",
      "metadata": {
        "id": "jP-F4UDU8j4e"
      },
      "source": [
        "optimizador = torch.optim.SGD(model.parameters(), lr=0.01, momentum=0)\r\n",
        "#criterio = torch.nn.CrossEntropyLoss().cuda()\r\n",
        "criterio = torch.nn.MSELoss()"
      ],
      "execution_count": null,
      "outputs": []
    },
    {
      "cell_type": "code",
      "metadata": {
        "id": "u_G5cQABQNDz"
      },
      "source": [
        "errores = []\r\n",
        "nit = 0\r\n",
        "EPOCS = 100000"
      ],
      "execution_count": null,
      "outputs": []
    },
    {
      "cell_type": "code",
      "metadata": {
        "id": "4-TCPnUJqN5s",
        "colab": {
          "base_uri": "https://localhost:8080/"
        },
        "outputId": "384d2f30-2bb9-4903-9955-b077ed15ddd9"
      },
      "source": [
        "preds = []\n",
        "nit += 1\n",
        "for epo in range(EPOCS):\n",
        "  optimizador.zero_grad()\n",
        "  y_pred = model(X_g)\n",
        "  loss = criterio(y_pred, y_g)\n",
        "  loss.backward()\n",
        "  optimizador.step()\n",
        "  if epo % 10000 == 0:\n",
        "    print(epo, loss.item())\n",
        "    errores.append([epo+nit*EPOCS, loss.item()])\n",
        "    pred = y_pred.cpu().detach().numpy()\n",
        "    preds.append(pred)"
      ],
      "execution_count": null,
      "outputs": [
        {
          "output_type": "stream",
          "text": [
            "0 0.02361973375082016\n",
            "10000 0.02225485071539879\n",
            "20000 0.02329356223344803\n",
            "30000 0.019783753901720047\n",
            "40000 0.020963547751307487\n",
            "50000 0.01845572702586651\n",
            "60000 0.018038852140307426\n",
            "70000 0.03267328441143036\n",
            "80000 0.017327213659882545\n",
            "90000 0.01803402230143547\n"
          ],
          "name": "stdout"
        }
      ]
    },
    {
      "cell_type": "code",
      "metadata": {
        "colab": {
          "base_uri": "https://localhost:8080/",
          "height": 463
        },
        "id": "VbfArALMM7FF",
        "outputId": "79752ac8-8918-45d2-eb2b-ecfea6c52b24"
      },
      "source": [
        "#@title Gráfica\r\n",
        "plt.figure(figsize=(7,7), facecolor='lightgray')\r\n",
        "\r\n",
        "plt.plot(y_np, pred, 'bo', ms=3, label='Red Neuronal')\r\n",
        "plt.plot([-1,1], [-1, 1], 'b:', lw=4)\r\n",
        "\r\n",
        "plt.title('Resultado de Iteración Red Neuronal', fontsize=20)\r\n",
        "plt.legend(loc='best', fontsize=14)\r\n",
        "plt.xlabel('GestioDinámica 2020')\r\n",
        "plt.show()"
      ],
      "execution_count": null,
      "outputs": [
        {
          "output_type": "display_data",
          "data": {
            "image/png": "[encoded data removed]",
            "text/plain": [
              "<Figure size 504x504 with 1 Axes>"
            ]
          },
          "metadata": {
            "tags": []
          }
        }
      ]
    },
    {
      "cell_type": "code",
      "metadata": {
        "colab": {
          "base_uri": "https://localhost:8080/",
          "height": 320
        },
        "id": "rdTwQjuYCOyE",
        "outputId": "9098305f-87dd-4d88-8a35-3dd7a5eed7f8"
      },
      "source": [
        "err_df = pd.DataFrame(errores)\r\n",
        "plt.figure(figsize=(8,5), facecolor='white')\r\n",
        "plt.plot(err_df[0], err_df[1])\r\n",
        "plt.grid(True)\r\n",
        "plt.show()"
      ],
      "execution_count": null,
      "outputs": [
        {
          "output_type": "display_data",
          "data": {
            "image/png": "[encoded data removed]",
            "text/plain": [
              "<Figure size 576x360 with 1 Axes>"
            ]
          },
          "metadata": {
            "tags": []
          }
        }
      ]
    },
    {
      "cell_type": "code",
      "metadata": {
        "id": "36yHZzEROsDq",
        "colab": {
          "base_uri": "https://localhost:8080/"
        },
        "outputId": "fee1ee74-e617-437a-fc53-68b4516d02e4"
      },
      "source": [
        "from sklearn.linear_model import LinearRegression\n",
        "from sklearn.naive_bayes import GaussianNB\n",
        "from sklearn.linear_model import LogisticRegression\n",
        "lr = LogisticRegression()\n",
        "mlm = lr.fit(X_np, y_np)\n",
        "nb = GaussianNB()\n",
        "mnb = nb.fit(X_np, y_np)\n",
        "pred_lm = mlm.predict(X_np)\n",
        "pred_nb = mnb.predict(X_np)\n",
        "len(X_np), len(pred_lm)"
      ],
      "execution_count": null,
      "outputs": [
        {
          "output_type": "stream",
          "text": [
            "/usr/local/lib/python3.6/dist-packages/sklearn/utils/validation.py:760: DataConversionWarning: A column-vector y was passed when a 1d array was expected. Please change the shape of y to (n_samples, ), for example using ravel().\n",
            "  y = column_or_1d(y, warn=True)\n",
            "/usr/local/lib/python3.6/dist-packages/sklearn/naive_bayes.py:206: DataConversionWarning: A column-vector y was passed when a 1d array was expected. Please change the shape of y to (n_samples, ), for example using ravel().\n",
            "  y = column_or_1d(y, warn=True)\n"
          ],
          "name": "stderr"
        },
        {
          "output_type": "execute_result",
          "data": {
            "text/plain": [
              "(900, 900)"
            ]
          },
          "metadata": {
            "tags": []
          },
          "execution_count": 44
        }
      ]
    },
    {
      "cell_type": "code",
      "metadata": {
        "id": "c4zPyndzQLdO"
      },
      "source": [
        "#@title Gráfica\n",
        "plt.figure(figsize=(10,10), facecolor='lightgray')\n",
        "\n",
        "plt.plot(y_np, pred, 'bo', ms=8, label='Red Neuronal')\n",
        "plt.plot(y_np, pred_nb, 'go', ms=8, label='Naive Bayes')\n",
        "plt.plot(y_np, pred_lm, 'ro', ms=8, label='Regresión Logística')\n",
        "plt.plot([-1,1], [-1, 1], 'b:', lw=4)\n",
        "\n",
        "plt.title('Comparación entre Modelos Predictivos', fontsize=20)\n",
        "plt.legend(loc='best', fontsize=14)\n",
        "plt.text(1,1, 'GestioDinámica 2020')\n",
        "plt.show()"
      ],
      "execution_count": null,
      "outputs": []
    },
    {
      "cell_type": "code",
      "metadata": {
        "id": "ljenPE0Oz-o2"
      },
      "source": [
        "data_test = X[0:10].cuda()"
      ],
      "execution_count": null,
      "outputs": []
    },
    {
      "cell_type": "code",
      "metadata": {
        "colab": {
          "base_uri": "https://localhost:8080/"
        },
        "id": "ZDyn4_3WSqTc",
        "outputId": "138a5e3d-ace2-4d53-aada-ce4b95f4d2be"
      },
      "source": [
        "data_cat.columns"
      ],
      "execution_count": null,
      "outputs": [
        {
          "output_type": "execute_result",
          "data": {
            "text/plain": [
              "Index(['Edad_AdultoMayor', 'Edad_Joven', 'Edad_Niño', 'Sexo_M', 'Area_A2',\n",
              "       'Area_A3', 'Area_A4'],\n",
              "      dtype='object')"
            ]
          },
          "metadata": {
            "tags": []
          },
          "execution_count": 75
        }
      ]
    },
    {
      "cell_type": "code",
      "metadata": {
        "colab": {
          "base_uri": "https://localhost:8080/"
        },
        "id": "b_MAY8DcSnhZ",
        "outputId": "bfc13c2a-cb90-4c30-db34-0908b711ccc1"
      },
      "source": [
        "data_test"
      ],
      "execution_count": null,
      "outputs": [
        {
          "output_type": "execute_result",
          "data": {
            "text/plain": [
              "tensor([[0.0000, 0.0000, 1.0000, 1.0000, 0.0000, 0.0000, 0.0000, 0.7083, 0.2500],\n",
              "        [0.0000, 0.0000, 1.0000, 0.0000, 0.0000, 1.0000, 0.0000, 0.1250, 0.7500],\n",
              "        [0.0000, 0.0000, 1.0000, 0.0000, 0.0000, 0.0000, 0.0000, 0.7917, 0.5000],\n",
              "        [0.0000, 0.0000, 1.0000, 1.0000, 0.0000, 0.0000, 0.0000, 0.9583, 0.2500],\n",
              "        [0.0000, 0.0000, 1.0000, 0.0000, 1.0000, 0.0000, 0.0000, 0.2917, 1.0000],\n",
              "        [0.0000, 0.0000, 0.0000, 1.0000, 0.0000, 0.0000, 1.0000, 0.9167, 0.0000],\n",
              "        [1.0000, 0.0000, 0.0000, 1.0000, 0.0000, 0.0000, 0.0000, 0.0000, 0.2500],\n",
              "        [0.0000, 0.0000, 1.0000, 1.0000, 0.0000, 1.0000, 0.0000, 0.6250, 0.0000],\n",
              "        [0.0000, 1.0000, 0.0000, 0.0000, 0.0000, 0.0000, 1.0000, 0.0417, 1.0000],\n",
              "        [0.0000, 1.0000, 0.0000, 0.0000, 0.0000, 0.0000, 0.0000, 0.3750, 0.0000]],\n",
              "       device='cuda:0')"
            ]
          },
          "metadata": {
            "tags": []
          },
          "execution_count": 76
        }
      ]
    },
    {
      "cell_type": "code",
      "metadata": {
        "colab": {
          "base_uri": "https://localhost:8080/"
        },
        "id": "Ei1X2idE0hTA",
        "outputId": "e763c926-06d3-4d75-9185-8f31168142f0"
      },
      "source": [
        "model(data_test)"
      ],
      "execution_count": null,
      "outputs": [
        {
          "output_type": "execute_result",
          "data": {
            "text/plain": [
              "tensor([[ 0.0057],\n",
              "        [-0.0011],\n",
              "        [-0.0150],\n",
              "        [-0.0065],\n",
              "        [ 0.9735],\n",
              "        [-0.0049],\n",
              "        [ 0.9839],\n",
              "        [-0.0015],\n",
              "        [ 0.9840],\n",
              "        [ 0.0039]], device='cuda:0', grad_fn=<AddmmBackward>)"
            ]
          },
          "metadata": {
            "tags": []
          },
          "execution_count": 77
        }
      ]
    },
    {
      "cell_type": "code",
      "metadata": {
        "colab": {
          "base_uri": "https://localhost:8080/"
        },
        "id": "2NGpsB6Z0yfP",
        "outputId": "a0454212-5a2e-4737-bdfd-d69eb5de23d7"
      },
      "source": [
        "#print(pred[0:10])\r\n",
        "indices = [i for i in range(len(pred)) if pred[i] < 0.45]\r\n",
        "len(indices)"
      ],
      "execution_count": null,
      "outputs": [
        {
          "output_type": "execute_result",
          "data": {
            "text/plain": [
              "721"
            ]
          },
          "metadata": {
            "tags": []
          },
          "execution_count": 86
        }
      ]
    },
    {
      "cell_type": "code",
      "metadata": {
        "colab": {
          "base_uri": "https://localhost:8080/",
          "height": 197
        },
        "id": "J7bW5CCC2R3P",
        "outputId": "cee19202-9bb4-4835-b03c-705c82daf93c"
      },
      "source": [
        "data_10 = dataset.iloc[indices,:]\r\n",
        "data_10 = data_10.reindex()\r\n",
        "data_11 = data_10[['Edad', 'Sexo', 'Area', 'Violento']]\r\n",
        "data_12 = data_11[data_11.Violento == 'No Violento']\r\n",
        "data_12.head()"
      ],
      "execution_count": null,
      "outputs": [
        {
          "output_type": "execute_result",
          "data": {
            "text/html": [
              "<div>\n",
              "<style scoped>\n",
              "    .dataframe tbody tr th:only-of-type {\n",
              "        vertical-align: middle;\n",
              "    }\n",
              "\n",
              "    .dataframe tbody tr th {\n",
              "        vertical-align: top;\n",
              "    }\n",
              "\n",
              "    .dataframe thead th {\n",
              "        text-align: right;\n",
              "    }\n",
              "</style>\n",
              "<table border=\"1\" class=\"dataframe\">\n",
              "  <thead>\n",
              "    <tr style=\"text-align: right;\">\n",
              "      <th></th>\n",
              "      <th>Edad</th>\n",
              "      <th>Sexo</th>\n",
              "      <th>Area</th>\n",
              "      <th>Violento</th>\n",
              "    </tr>\n",
              "  </thead>\n",
              "  <tbody>\n",
              "    <tr>\n",
              "      <th>0</th>\n",
              "      <td>Niño</td>\n",
              "      <td>M</td>\n",
              "      <td>A1</td>\n",
              "      <td>No Violento</td>\n",
              "    </tr>\n",
              "    <tr>\n",
              "      <th>1</th>\n",
              "      <td>Niño</td>\n",
              "      <td>F</td>\n",
              "      <td>A3</td>\n",
              "      <td>No Violento</td>\n",
              "    </tr>\n",
              "    <tr>\n",
              "      <th>2</th>\n",
              "      <td>Niño</td>\n",
              "      <td>F</td>\n",
              "      <td>A1</td>\n",
              "      <td>No Violento</td>\n",
              "    </tr>\n",
              "    <tr>\n",
              "      <th>3</th>\n",
              "      <td>Niño</td>\n",
              "      <td>M</td>\n",
              "      <td>A1</td>\n",
              "      <td>No Violento</td>\n",
              "    </tr>\n",
              "    <tr>\n",
              "      <th>5</th>\n",
              "      <td>Adulto</td>\n",
              "      <td>M</td>\n",
              "      <td>A4</td>\n",
              "      <td>No Violento</td>\n",
              "    </tr>\n",
              "  </tbody>\n",
              "</table>\n",
              "</div>"
            ],
            "text/plain": [
              "     Edad Sexo Area     Violento\n",
              "0    Niño    M   A1  No Violento\n",
              "1    Niño    F   A3  No Violento\n",
              "2    Niño    F   A1  No Violento\n",
              "3    Niño    M   A1  No Violento\n",
              "5  Adulto    M   A4  No Violento"
            ]
          },
          "metadata": {
            "tags": []
          },
          "execution_count": 90
        }
      ]
    },
    {
      "cell_type": "code",
      "metadata": {
        "colab": {
          "base_uri": "https://localhost:8080/",
          "height": 320
        },
        "id": "hWMKxd0v0FwL",
        "outputId": "2d8b0ae6-17d2-48dd-9380-10dbe17f7133"
      },
      "source": [
        "DATA = data_12\r\n",
        "clase = 'Violento'\r\n",
        "plt.figure(figsize=(15, 5), facecolor='white')\r\n",
        "pd.plotting.parallel_coordinates(DATA, class_column=clase, lw=5, alpha=0.01, colormap='Set1')\r\n",
        "plt.legend(loc='best')\r\n",
        "plt.show()"
      ],
      "execution_count": null,
      "outputs": [
        {
          "output_type": "display_data",
          "data": {
            "image/png": "[encoded data removed]",
            "text/plain": [
              "<Figure size 1080x360 with 1 Axes>"
            ]
          },
          "metadata": {
            "tags": []
          }
        }
      ]
    },
    {
      "cell_type": "markdown",
      "metadata": {
        "id": "iYOmsiqS_zoV"
      },
      "source": [
        "### Referencias\n",
        "https://medium.com/@benjamin.phillips22/simple-regression-with-neural-networks-in-pytorch-313f06910379\n"
      ]
    }
  ]
}