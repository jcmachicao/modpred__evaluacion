{
  "nbformat": 4,
  "nbformat_minor": 0,
  "metadata": {
    "kernelspec": {
      "display_name": "Python 3",
      "language": "python",
      "name": "python3"
    },
    "language_info": {
      "codemirror_mode": {
        "name": "ipython",
        "version": 3
      },
      "file_extension": ".py",
      "mimetype": "text/x-python",
      "name": "python",
      "nbconvert_exporter": "python",
      "pygments_lexer": "ipython3",
      "version": "3.8.5"
    },
    "colab": {
      "name": "nn_pnp_delitos.ipynb",
      "provenance": [],
      "collapsed_sections": [],
      "include_colab_link": true
    },
    "accelerator": "GPU"
  },
  "cells": [
    {
      "cell_type": "markdown",
      "metadata": {
        "id": "view-in-github",
        "colab_type": "text"
      },
      "source": [
        "<a href=\"https://colab.research.google.com/github/jcmachicao/modpred__evaluacion/blob/main/nn_pnp_delitos.ipynb\" target=\"_parent\"><img src=\"https://colab.research.google.com/assets/colab-badge.svg\" alt=\"Open In Colab\"/></a>"
      ]
    },
    {
      "cell_type": "code",
      "metadata": {
        "id": "XpZ0XEU0pRsp"
      },
      "source": [
        "import pandas as pd\n",
        "import numpy as np\n",
        "import sklearn\n",
        "import matplotlib.pyplot as plt\n",
        "from sklearn.preprocessing import MinMaxScaler\n",
        "import os"
      ],
      "execution_count": 1,
      "outputs": []
    },
    {
      "cell_type": "code",
      "metadata": {
        "id": "zHvuIHqhpRsu"
      },
      "source": [
        "import torch"
      ],
      "execution_count": 2,
      "outputs": []
    },
    {
      "cell_type": "code",
      "metadata": {
        "colab": {
          "base_uri": "https://localhost:8080/"
        },
        "id": "7WQ2a2UwpfrN",
        "outputId": "7e9ad2cc-d0e3-4fd4-911d-78df9bcdaa2e"
      },
      "source": [
        "from google.colab import drive\n",
        "drive.mount('/content/drive')"
      ],
      "execution_count": 3,
      "outputs": [
        {
          "output_type": "stream",
          "text": [
            "Mounted at /content/drive\n"
          ],
          "name": "stdout"
        }
      ]
    },
    {
      "cell_type": "code",
      "metadata": {
        "id": "c8ESpWhepRsu"
      },
      "source": [
        "ruta = 'drive/My Drive/2020 data/'"
      ],
      "execution_count": 4,
      "outputs": []
    },
    {
      "cell_type": "code",
      "metadata": {
        "id": "MeEl7U10pRsv"
      },
      "source": [
        "data = pd.read_excel(ruta + 'bd_soldeoro_pnp.xlsx')\n",
        "data.info()"
      ],
      "execution_count": null,
      "outputs": []
    },
    {
      "cell_type": "code",
      "metadata": {
        "colab": {
          "base_uri": "https://localhost:8080/"
        },
        "id": "BWm9oDSRpRsw",
        "outputId": "46406d4f-3b3f-4171-b398-5f0290f09f40"
      },
      "source": [
        "descartar = ['id_doc_denuncia', 'FECHA_HECHO', 'FECHA_REGISTRO', 'COMISARIA', 'UBICACIÓN', 'SUBTIPO', 'DEPARTAMENTO', 'PROVINCIA']\n",
        "data = data.drop(descartar, axis=1)\n",
        "data.columns"
      ],
      "execution_count": 6,
      "outputs": [
        {
          "output_type": "execute_result",
          "data": {
            "text/plain": [
              "Index(['MATERIA', 'TIPO', 'MODALIDAD', 'DISTRITO', 'TIPO DE VIA', 'SITUACION',\n",
              "       'GENERO'],\n",
              "      dtype='object')"
            ]
          },
          "metadata": {
            "tags": []
          },
          "execution_count": 6
        }
      ]
    },
    {
      "cell_type": "code",
      "metadata": {
        "colab": {
          "base_uri": "https://localhost:8080/"
        },
        "id": "nheyxPuxpRsw",
        "outputId": "b1e2d032-defe-4972-e6fa-8af0d40b7a3c"
      },
      "source": [
        "var_cat, var_num = [], []\n",
        "for a, b in zip(data.columns, data.dtypes):\n",
        "    if b == 'object':\n",
        "      var_cat.append(a)\n",
        "    else:\n",
        "      var_num.append(a)\n",
        "print(var_cat)\n",
        "print(var_num)"
      ],
      "execution_count": 7,
      "outputs": [
        {
          "output_type": "stream",
          "text": [
            "['MATERIA', 'TIPO', 'MODALIDAD', 'DISTRITO', 'TIPO DE VIA', 'SITUACION', 'GENERO']\n",
            "[]\n"
          ],
          "name": "stdout"
        }
      ]
    },
    {
      "cell_type": "code",
      "metadata": {
        "colab": {
          "base_uri": "https://localhost:8080/"
        },
        "id": "fvjUIzO4pRsx",
        "outputId": "e3f4e8f4-c36a-4114-b7e1-e77655a95332"
      },
      "source": [
        "data[var_cat].apply(lambda x: x.value_counts()).T.stack()"
      ],
      "execution_count": 8,
      "outputs": [
        {
          "output_type": "execute_result",
          "data": {
            "text/plain": [
              "MATERIA    FUERO COMUN                    3043.0\n",
              "           HECHOS DE INTERES POLICIAL    16099.0\n",
              "           LEYES ESPECIALES               3380.0\n",
              "           NIÑOS Y ADOLESCENTES             10.0\n",
              "           TRANSITO                       1091.0\n",
              "                                          ...   \n",
              "SITUACION  SOLICITANTE                    1928.0\n",
              "           TESTIGO                          26.0\n",
              "           VICTIMA                         138.0\n",
              "GENERO     F                             10033.0\n",
              "           M                             13590.0\n",
              "Length: 252, dtype: float64"
            ]
          },
          "metadata": {
            "tags": []
          },
          "execution_count": 8
        }
      ]
    },
    {
      "cell_type": "code",
      "metadata": {
        "id": "IYgXzlAwpRsx"
      },
      "source": [
        "data_cat = pd.get_dummies(data[var_cat], drop_first=True)\n",
        "#data_num = data[var_num]\n",
        "#X_df = pd.concat([data_cat, data_num], axis=1)\n",
        "X_df = data_cat.to_numpy()\n",
        "#scl = MinMaxScaler()\n",
        "#scl.fit(X_df)\n",
        "#X = scl.transform(X_df).astype('float')\n",
        "#X.shape, type(X)"
      ],
      "execution_count": 9,
      "outputs": []
    },
    {
      "cell_type": "code",
      "metadata": {
        "colab": {
          "base_uri": "https://localhost:8080/"
        },
        "id": "AuhvW_YkpRsx",
        "outputId": "599abbb9-3fa7-4696-c379-4440ec90db7d"
      },
      "source": [
        "for col in data.columns:\n",
        "    print(col, len(data[col].unique()))"
      ],
      "execution_count": 10,
      "outputs": [
        {
          "output_type": "stream",
          "text": [
            "MATERIA 5\n",
            "TIPO 22\n",
            "MODALIDAD 149\n",
            "DISTRITO 32\n",
            "TIPO DE VIA 10\n",
            "SITUACION 32\n",
            "GENERO 2\n"
          ],
          "name": "stdout"
        }
      ]
    },
    {
      "cell_type": "code",
      "metadata": {
        "id": "Du2Q3QGEpRsy"
      },
      "source": [
        "d20 = pd.get_dummies(data[['MATERIA', 'TIPO', 'MODALIDAD', 'DISTRITO', 'TIPO DE VIA', 'GENERO']], drop_first=True)"
      ],
      "execution_count": 11,
      "outputs": []
    },
    {
      "cell_type": "code",
      "metadata": {
        "colab": {
          "base_uri": "https://localhost:8080/"
        },
        "id": "VwKFcAaHpRsy",
        "outputId": "8d2263fc-8f79-4157-f98d-daf4a1ec5c85"
      },
      "source": [
        "X = d20.to_numpy().astype(float)\n",
        "X.shape"
      ],
      "execution_count": 12,
      "outputs": [
        {
          "output_type": "execute_result",
          "data": {
            "text/plain": [
              "(23623, 214)"
            ]
          },
          "metadata": {
            "tags": []
          },
          "execution_count": 12
        }
      ]
    },
    {
      "cell_type": "code",
      "metadata": {
        "colab": {
          "base_uri": "https://localhost:8080/"
        },
        "id": "u7H_vH-ipRsy",
        "outputId": "775067a7-bcbd-496c-8905-f85b49019065"
      },
      "source": [
        "y = data.SITUACION.factorize()[0]\n",
        "y"
      ],
      "execution_count": 13,
      "outputs": [
        {
          "output_type": "execute_result",
          "data": {
            "text/plain": [
              "array([ 0,  1,  1, ..., 12,  3,  1])"
            ]
          },
          "metadata": {
            "tags": []
          },
          "execution_count": 13
        }
      ]
    },
    {
      "cell_type": "code",
      "metadata": {
        "id": "VSywigRSpRsy"
      },
      "source": [
        "X_tn = torch.from_numpy(X.astype(float))\n",
        "y_tn = torch.from_numpy(y.reshape(-1,1).astype(float))"
      ],
      "execution_count": 14,
      "outputs": []
    },
    {
      "cell_type": "code",
      "metadata": {
        "colab": {
          "base_uri": "https://localhost:8080/"
        },
        "id": "NeiFGCgQpRsz",
        "outputId": "8920e9ae-e71c-4c62-f718-633ed72ee806"
      },
      "source": [
        "X_tn.shape, y_tn.shape"
      ],
      "execution_count": 15,
      "outputs": [
        {
          "output_type": "execute_result",
          "data": {
            "text/plain": [
              "(torch.Size([23623, 214]), torch.Size([23623, 1]))"
            ]
          },
          "metadata": {
            "tags": []
          },
          "execution_count": 15
        }
      ]
    },
    {
      "cell_type": "code",
      "metadata": {
        "id": "96HeS13hpRsz"
      },
      "source": [
        "model = torch.nn.Sequential(\n",
        "  torch.nn.Linear(X_tn.shape[1], X_tn.shape[0]),\n",
        "  torch.nn.ReLU(),\n",
        "  torch.nn.Linear(X_tn.shape[0], 264),\n",
        "  torch.nn.Dropout(p=0.15, inplace=False),\n",
        "  torch.nn.ReLU(),\n",
        "  torch.nn.Linear(264, 32),\n",
        "  torch.nn.ReLU(),\n",
        "  torch.nn.Linear(32, 1)\n",
        ")"
      ],
      "execution_count": 16,
      "outputs": []
    },
    {
      "cell_type": "code",
      "metadata": {
        "colab": {
          "base_uri": "https://localhost:8080/"
        },
        "id": "qRHI0wKOpRsz",
        "outputId": "604fe9cc-36bd-4d4d-f1d8-0f1a13279667"
      },
      "source": [
        "torch.cuda.device_count(), torch.cuda.get_device_name(0)"
      ],
      "execution_count": 17,
      "outputs": [
        {
          "output_type": "execute_result",
          "data": {
            "text/plain": [
              "(1, 'Tesla T4')"
            ]
          },
          "metadata": {
            "tags": []
          },
          "execution_count": 17
        }
      ]
    },
    {
      "cell_type": "code",
      "metadata": {
        "id": "M_PG4veBpRsz"
      },
      "source": [
        "model.cuda()\n",
        "X_g = X_tn.cuda()\n",
        "y_g = y_tn.cuda()"
      ],
      "execution_count": 18,
      "outputs": []
    },
    {
      "cell_type": "code",
      "metadata": {
        "id": "o3qXTQbBpRsz"
      },
      "source": [
        "optimizador = torch.optim.SGD(model.parameters(), lr=0.01, momentum=0)\n",
        "criterio = torch.nn.MSELoss()"
      ],
      "execution_count": 19,
      "outputs": []
    },
    {
      "cell_type": "code",
      "metadata": {
        "id": "25lu_y8CpRsz"
      },
      "source": [
        "errores = []\n",
        "nit = 0"
      ],
      "execution_count": 21,
      "outputs": []
    },
    {
      "cell_type": "code",
      "metadata": {
        "id": "3j5ffNalEygy"
      },
      "source": [
        "EPOCS = 2000"
      ],
      "execution_count": 36,
      "outputs": []
    },
    {
      "cell_type": "code",
      "metadata": {
        "colab": {
          "base_uri": "https://localhost:8080/"
        },
        "id": "nmkhnUZapRs0",
        "outputId": "cee72f24-4a3a-41a9-fd95-e1ee41a5cd20"
      },
      "source": [
        "preds = []\n",
        "nit += 1\n",
        "for epo in range(EPOCS):\n",
        "    optimizador.zero_grad()\n",
        "    y_pred = model(X_g.float())\n",
        "    loss = criterio(y_pred, y_g.float())\n",
        "    loss.backward()\n",
        "    optimizador.step()\n",
        "    if epo % 500 == 0:\n",
        "        print(epo, loss.item())\n",
        "        errores.append([epo+nit*EPOCS, loss.item()])\n",
        "        pred = y_pred.cpu().detach().numpy()\n",
        "        preds.append(pred)"
      ],
      "execution_count": 37,
      "outputs": [
        {
          "output_type": "stream",
          "text": [
            "500 7.228166103363037\n",
            "1000 7.22619104385376\n",
            "1500 7.224984645843506\n"
          ],
          "name": "stdout"
        }
      ]
    },
    {
      "cell_type": "code",
      "metadata": {
        "colab": {
          "base_uri": "https://localhost:8080/",
          "height": 735
        },
        "id": "B_G34bMbpRs0",
        "outputId": "5966eae1-9495-4506-ac80-998b86467508"
      },
      "source": [
        "plt.figure(figsize=(12,12), facecolor='lightgray')\n",
        "plt.plot(y, pred, 'bo', ms=3, label='Red Neuronal')\n",
        "plt.title('Resultado de Iteración Red Neuronal', fontsize=20)\n",
        "plt.legend(loc='best', fontsize=14)\n",
        "plt.xlabel('GestioDinámica 2020')\n",
        "plt.grid(True, which='both')\n",
        "plt.show()"
      ],
      "execution_count": 39,
      "outputs": [
        {
          "output_type": "display_data",
          "data": {
            "image/png": "[encoded data removed]",
            "text/plain": [
              "<Figure size 864x864 with 1 Axes>"
            ]
          },
          "metadata": {
            "tags": []
          }
        }
      ]
    },
    {
      "cell_type": "code",
      "metadata": {
        "colab": {
          "base_uri": "https://localhost:8080/",
          "height": 320
        },
        "id": "e0CWStfBpRs0",
        "outputId": "2f7e127a-4490-436f-b661-9f695d4c96b3"
      },
      "source": [
        "err_df = pd.DataFrame(errores)\n",
        "plt.figure(figsize=(8,5), facecolor='white')\n",
        "plt.plot(err_df[0], err_df[1])\n",
        "plt.grid(True)\n",
        "plt.show()"
      ],
      "execution_count": 40,
      "outputs": [
        {
          "output_type": "display_data",
          "data": {
            "image/png": "[encoded data removed]",
            "text/plain": [
              "<Figure size 576x360 with 1 Axes>"
            ]
          },
          "metadata": {
            "tags": []
          }
        }
      ]
    },
    {
      "cell_type": "code",
      "metadata": {
        "id": "gy6lm6vUpRs0"
      },
      "source": [
        "torch.save(model.state_dict(), ruta + 'pnp_32situaciones.tar')"
      ],
      "execution_count": 41,
      "outputs": []
    },
    {
      "cell_type": "markdown",
      "metadata": {
        "id": "xI2ULeH96QG4"
      },
      "source": [
        "https://pytorch.org/tutorials/beginner/saving_loading_models.html\r\n",
        "\r\n"
      ]
    }
  ]
}